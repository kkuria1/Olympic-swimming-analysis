{
 "cells": [
  {
   "cell_type": "code",
   "execution_count": 1,
   "id": "1f3b0341-6d46-4299-84dd-296f6dc5f0f9",
   "metadata": {},
   "outputs": [],
   "source": [
    "import pandas as pd\n",
    "import numpy as np\n",
    "import matplotlib.pyplot as plt\n",
    "from prophet import Prophet\n"
   ]
  },
  {
   "cell_type": "code",
   "execution_count": 2,
   "id": "ae947f1e-ed34-490d-ab49-bcddb8e62e96",
   "metadata": {},
   "outputs": [
    {
     "data": {
      "text/html": [
       "<div>\n",
       "<style scoped>\n",
       "    .dataframe tbody tr th:only-of-type {\n",
       "        vertical-align: middle;\n",
       "    }\n",
       "\n",
       "    .dataframe tbody tr th {\n",
       "        vertical-align: top;\n",
       "    }\n",
       "\n",
       "    .dataframe thead th {\n",
       "        text-align: right;\n",
       "    }\n",
       "</style>\n",
       "<table border=\"1\" class=\"dataframe\">\n",
       "  <thead>\n",
       "    <tr style=\"text-align: right;\">\n",
       "      <th></th>\n",
       "      <th>Location</th>\n",
       "      <th>Year</th>\n",
       "      <th>Distance (in meters)</th>\n",
       "      <th>Stroke</th>\n",
       "      <th>Relay?</th>\n",
       "      <th>Gender</th>\n",
       "      <th>Team</th>\n",
       "      <th>Athlete</th>\n",
       "      <th>Results</th>\n",
       "      <th>Rank</th>\n",
       "    </tr>\n",
       "  </thead>\n",
       "  <tbody>\n",
       "    <tr>\n",
       "      <th>0</th>\n",
       "      <td>Tokyo</td>\n",
       "      <td>2020</td>\n",
       "      <td>100m</td>\n",
       "      <td>Backstroke</td>\n",
       "      <td>0</td>\n",
       "      <td>Men</td>\n",
       "      <td>ROC</td>\n",
       "      <td>Evgeny Rylov</td>\n",
       "      <td>51.98</td>\n",
       "      <td>1</td>\n",
       "    </tr>\n",
       "    <tr>\n",
       "      <th>1</th>\n",
       "      <td>Tokyo</td>\n",
       "      <td>2020</td>\n",
       "      <td>100m</td>\n",
       "      <td>Backstroke</td>\n",
       "      <td>0</td>\n",
       "      <td>Men</td>\n",
       "      <td>ROC</td>\n",
       "      <td>Kliment Kolesnikov</td>\n",
       "      <td>52</td>\n",
       "      <td>2</td>\n",
       "    </tr>\n",
       "    <tr>\n",
       "      <th>2</th>\n",
       "      <td>Tokyo</td>\n",
       "      <td>2020</td>\n",
       "      <td>100m</td>\n",
       "      <td>Backstroke</td>\n",
       "      <td>0</td>\n",
       "      <td>Men</td>\n",
       "      <td>USA</td>\n",
       "      <td>Ryan Murphy</td>\n",
       "      <td>52.19</td>\n",
       "      <td>3</td>\n",
       "    </tr>\n",
       "    <tr>\n",
       "      <th>3</th>\n",
       "      <td>Tokyo</td>\n",
       "      <td>2020</td>\n",
       "      <td>100m</td>\n",
       "      <td>Backstroke</td>\n",
       "      <td>0</td>\n",
       "      <td>Men</td>\n",
       "      <td>ITA</td>\n",
       "      <td>Thomas Ceccon</td>\n",
       "      <td>52.3</td>\n",
       "      <td>4</td>\n",
       "    </tr>\n",
       "    <tr>\n",
       "      <th>4</th>\n",
       "      <td>Tokyo</td>\n",
       "      <td>2020</td>\n",
       "      <td>100m</td>\n",
       "      <td>Backstroke</td>\n",
       "      <td>0</td>\n",
       "      <td>Men</td>\n",
       "      <td>CHN</td>\n",
       "      <td>Jiayu Xu</td>\n",
       "      <td>52.51</td>\n",
       "      <td>4</td>\n",
       "    </tr>\n",
       "    <tr>\n",
       "      <th>...</th>\n",
       "      <td>...</td>\n",
       "      <td>...</td>\n",
       "      <td>...</td>\n",
       "      <td>...</td>\n",
       "      <td>...</td>\n",
       "      <td>...</td>\n",
       "      <td>...</td>\n",
       "      <td>...</td>\n",
       "      <td>...</td>\n",
       "      <td>...</td>\n",
       "    </tr>\n",
       "    <tr>\n",
       "      <th>4354</th>\n",
       "      <td>Stockholm</td>\n",
       "      <td>1912</td>\n",
       "      <td>4x100</td>\n",
       "      <td>Freestyle</td>\n",
       "      <td>1</td>\n",
       "      <td>Women</td>\n",
       "      <td>SWE</td>\n",
       "      <td>Greta Carlsson, Vera Thulin, Sonja Johnsson, G...</td>\n",
       "      <td>NaN</td>\n",
       "      <td>5</td>\n",
       "    </tr>\n",
       "    <tr>\n",
       "      <th>4355</th>\n",
       "      <td>Stockholm</td>\n",
       "      <td>1912</td>\n",
       "      <td>4x200</td>\n",
       "      <td>Freestyle</td>\n",
       "      <td>1</td>\n",
       "      <td>Men</td>\n",
       "      <td>AUS</td>\n",
       "      <td>Malcolm Champion, Cecil Healy, Harold H. Hardw...</td>\n",
       "      <td>00:10:11.200000</td>\n",
       "      <td>1</td>\n",
       "    </tr>\n",
       "    <tr>\n",
       "      <th>4356</th>\n",
       "      <td>Stockholm</td>\n",
       "      <td>1912</td>\n",
       "      <td>4x200</td>\n",
       "      <td>Freestyle</td>\n",
       "      <td>1</td>\n",
       "      <td>Men</td>\n",
       "      <td>USA</td>\n",
       "      <td>Duke Paoa Kahanamoku, Harry J. Hebner, Perry M...</td>\n",
       "      <td>00:10:20.200000</td>\n",
       "      <td>2</td>\n",
       "    </tr>\n",
       "    <tr>\n",
       "      <th>4357</th>\n",
       "      <td>Stockholm</td>\n",
       "      <td>1912</td>\n",
       "      <td>4x200</td>\n",
       "      <td>Freestyle</td>\n",
       "      <td>1</td>\n",
       "      <td>Men</td>\n",
       "      <td>GBR</td>\n",
       "      <td>Thomas Sidney Battersby, Henry Taylor, John Ga...</td>\n",
       "      <td>00:10:28.600000</td>\n",
       "      <td>3</td>\n",
       "    </tr>\n",
       "    <tr>\n",
       "      <th>4358</th>\n",
       "      <td>Stockholm</td>\n",
       "      <td>1912</td>\n",
       "      <td>4x200</td>\n",
       "      <td>Freestyle</td>\n",
       "      <td>1</td>\n",
       "      <td>Men</td>\n",
       "      <td>GER</td>\n",
       "      <td>Georg Kunisch, Kurt Bretting, Oscar Schiele, M...</td>\n",
       "      <td>00:10:37.000000</td>\n",
       "      <td>4</td>\n",
       "    </tr>\n",
       "  </tbody>\n",
       "</table>\n",
       "<p>4359 rows × 10 columns</p>\n",
       "</div>"
      ],
      "text/plain": [
       "       Location  Year Distance (in meters)      Stroke  Relay? Gender Team  \\\n",
       "0         Tokyo  2020                 100m  Backstroke       0    Men  ROC   \n",
       "1         Tokyo  2020                 100m  Backstroke       0    Men  ROC   \n",
       "2         Tokyo  2020                 100m  Backstroke       0    Men  USA   \n",
       "3         Tokyo  2020                 100m  Backstroke       0    Men  ITA   \n",
       "4         Tokyo  2020                 100m  Backstroke       0    Men  CHN   \n",
       "...         ...   ...                  ...         ...     ...    ...  ...   \n",
       "4354  Stockholm  1912                4x100   Freestyle       1  Women  SWE   \n",
       "4355  Stockholm  1912                4x200   Freestyle       1    Men  AUS   \n",
       "4356  Stockholm  1912                4x200   Freestyle       1    Men  USA   \n",
       "4357  Stockholm  1912                4x200   Freestyle       1    Men  GBR   \n",
       "4358  Stockholm  1912                4x200   Freestyle       1    Men  GER   \n",
       "\n",
       "                                                Athlete          Results  Rank  \n",
       "0                                          Evgeny Rylov            51.98     1  \n",
       "1                                    Kliment Kolesnikov               52     2  \n",
       "2                                           Ryan Murphy            52.19     3  \n",
       "3                                         Thomas Ceccon             52.3     4  \n",
       "4                                              Jiayu Xu            52.51     4  \n",
       "...                                                 ...              ...   ...  \n",
       "4354  Greta Carlsson, Vera Thulin, Sonja Johnsson, G...              NaN     5  \n",
       "4355  Malcolm Champion, Cecil Healy, Harold H. Hardw...  00:10:11.200000     1  \n",
       "4356  Duke Paoa Kahanamoku, Harry J. Hebner, Perry M...  00:10:20.200000     2  \n",
       "4357  Thomas Sidney Battersby, Henry Taylor, John Ga...  00:10:28.600000     3  \n",
       "4358  Georg Kunisch, Kurt Bretting, Oscar Schiele, M...  00:10:37.000000     4  \n",
       "\n",
       "[4359 rows x 10 columns]"
      ]
     },
     "execution_count": 2,
     "metadata": {},
     "output_type": "execute_result"
    }
   ],
   "source": [
    "olympic_df = pd.read_csv('Olympic_Swimming_Results_1912to2020.csv')\n",
    "olympic_df"
   ]
  },
  {
   "cell_type": "code",
   "execution_count": 3,
   "id": "ed671d30-d525-4309-bf10-fa39537e00ae",
   "metadata": {},
   "outputs": [
    {
     "data": {
      "text/plain": [
       "Team\n",
       "USA    896\n",
       "AUS    451\n",
       "GBR    289\n",
       "JPN    249\n",
       "GER    227\n",
       "CAN    199\n",
       "HUN    173\n",
       "GDR    144\n",
       "SWE    143\n",
       "FRA    139\n",
       "NED    137\n",
       "URS    136\n",
       "ITA    126\n",
       "CHN    121\n",
       "RUS     77\n",
       "FRG     76\n",
       "BRA     61\n",
       "DEN     56\n",
       "RSA     51\n",
       "ROU     43\n",
       "Name: count, dtype: int64"
      ]
     },
     "execution_count": 3,
     "metadata": {},
     "output_type": "execute_result"
    }
   ],
   "source": [
    "olympic_df['Team'].value_counts().head(20)"
   ]
  },
  {
   "cell_type": "code",
   "execution_count": 4,
   "id": "87b017d3-c72f-4a0a-805f-c3eab2242ee2",
   "metadata": {},
   "outputs": [
    {
     "name": "stdout",
     "output_type": "stream",
     "text": [
      "<class 'pandas.core.frame.DataFrame'>\n",
      "RangeIndex: 4359 entries, 0 to 4358\n",
      "Data columns (total 10 columns):\n",
      " #   Column                Non-Null Count  Dtype \n",
      "---  ------                --------------  ----- \n",
      " 0   Location              4359 non-null   object\n",
      " 1   Year                  4359 non-null   int64 \n",
      " 2   Distance (in meters)  4359 non-null   object\n",
      " 3   Stroke                4359 non-null   object\n",
      " 4   Relay?                4359 non-null   int64 \n",
      " 5   Gender                4359 non-null   object\n",
      " 6   Team                  4359 non-null   object\n",
      " 7   Athlete               4345 non-null   object\n",
      " 8   Results               4331 non-null   object\n",
      " 9   Rank                  4359 non-null   int64 \n",
      "dtypes: int64(3), object(7)\n",
      "memory usage: 340.7+ KB\n"
     ]
    }
   ],
   "source": [
    "olympic_df.info()"
   ]
  },
  {
   "cell_type": "code",
   "execution_count": 5,
   "id": "43c7f000-a0c9-4732-9a7c-68756a689cac",
   "metadata": {},
   "outputs": [
    {
     "data": {
      "text/html": [
       "<div>\n",
       "<style scoped>\n",
       "    .dataframe tbody tr th:only-of-type {\n",
       "        vertical-align: middle;\n",
       "    }\n",
       "\n",
       "    .dataframe tbody tr th {\n",
       "        vertical-align: top;\n",
       "    }\n",
       "\n",
       "    .dataframe thead th {\n",
       "        text-align: right;\n",
       "    }\n",
       "</style>\n",
       "<table border=\"1\" class=\"dataframe\">\n",
       "  <thead>\n",
       "    <tr style=\"text-align: right;\">\n",
       "      <th></th>\n",
       "      <th>Year</th>\n",
       "      <th>Relay?</th>\n",
       "      <th>Rank</th>\n",
       "    </tr>\n",
       "  </thead>\n",
       "  <tbody>\n",
       "    <tr>\n",
       "      <th>count</th>\n",
       "      <td>4359.000000</td>\n",
       "      <td>4359.000000</td>\n",
       "      <td>4359.000000</td>\n",
       "    </tr>\n",
       "    <tr>\n",
       "      <th>mean</th>\n",
       "      <td>1982.936453</td>\n",
       "      <td>0.169764</td>\n",
       "      <td>3.164946</td>\n",
       "    </tr>\n",
       "    <tr>\n",
       "      <th>std</th>\n",
       "      <td>26.928344</td>\n",
       "      <td>0.375468</td>\n",
       "      <td>1.189715</td>\n",
       "    </tr>\n",
       "    <tr>\n",
       "      <th>min</th>\n",
       "      <td>1912.000000</td>\n",
       "      <td>0.000000</td>\n",
       "      <td>0.000000</td>\n",
       "    </tr>\n",
       "    <tr>\n",
       "      <th>25%</th>\n",
       "      <td>1968.000000</td>\n",
       "      <td>0.000000</td>\n",
       "      <td>2.000000</td>\n",
       "    </tr>\n",
       "    <tr>\n",
       "      <th>50%</th>\n",
       "      <td>1988.000000</td>\n",
       "      <td>0.000000</td>\n",
       "      <td>4.000000</td>\n",
       "    </tr>\n",
       "    <tr>\n",
       "      <th>75%</th>\n",
       "      <td>2004.000000</td>\n",
       "      <td>0.000000</td>\n",
       "      <td>4.000000</td>\n",
       "    </tr>\n",
       "    <tr>\n",
       "      <th>max</th>\n",
       "      <td>2020.000000</td>\n",
       "      <td>1.000000</td>\n",
       "      <td>5.000000</td>\n",
       "    </tr>\n",
       "  </tbody>\n",
       "</table>\n",
       "</div>"
      ],
      "text/plain": [
       "              Year       Relay?         Rank\n",
       "count  4359.000000  4359.000000  4359.000000\n",
       "mean   1982.936453     0.169764     3.164946\n",
       "std      26.928344     0.375468     1.189715\n",
       "min    1912.000000     0.000000     0.000000\n",
       "25%    1968.000000     0.000000     2.000000\n",
       "50%    1988.000000     0.000000     4.000000\n",
       "75%    2004.000000     0.000000     4.000000\n",
       "max    2020.000000     1.000000     5.000000"
      ]
     },
     "execution_count": 5,
     "metadata": {},
     "output_type": "execute_result"
    }
   ],
   "source": [
    "\n",
    "olympic_df.describe()"
   ]
  },
  {
   "cell_type": "code",
   "execution_count": 6,
   "id": "2b55ebdd-1cca-4d3e-815b-2b7dc7d4d68a",
   "metadata": {},
   "outputs": [
    {
     "data": {
      "text/plain": [
       "Index(['Location', 'Year', 'Distance (in meters)', 'Stroke', 'Relay?',\n",
       "       'Gender', 'Team', 'Athlete', 'Results', 'Rank'],\n",
       "      dtype='object')"
      ]
     },
     "execution_count": 6,
     "metadata": {},
     "output_type": "execute_result"
    }
   ],
   "source": [
    "olympic_df.columns"
   ]
  },
  {
   "cell_type": "code",
   "execution_count": 7,
   "id": "d94ce606-871d-4013-9b4f-f3274f037c55",
   "metadata": {},
   "outputs": [
    {
     "data": {
      "text/plain": [
       "(4359, 10)"
      ]
     },
     "execution_count": 7,
     "metadata": {},
     "output_type": "execute_result"
    }
   ],
   "source": [
    "\n",
    "olympic_df.shape"
   ]
  },
  {
   "cell_type": "code",
   "execution_count": 8,
   "id": "ec30c41e-126a-432b-9828-a3122950d18f",
   "metadata": {},
   "outputs": [
    {
     "data": {
      "text/plain": [
       "Location                 0\n",
       "Year                     0\n",
       "Distance (in meters)     0\n",
       "Stroke                   0\n",
       "Relay?                   0\n",
       "Gender                   0\n",
       "Team                     0\n",
       "Athlete                 14\n",
       "Results                 28\n",
       "Rank                     0\n",
       "dtype: int64"
      ]
     },
     "execution_count": 8,
     "metadata": {},
     "output_type": "execute_result"
    }
   ],
   "source": [
    "olympic_df.isnull().sum()"
   ]
  },
  {
   "cell_type": "code",
   "execution_count": 9,
   "id": "f8984318-59d2-4991-a64f-84a5c2bf7d20",
   "metadata": {},
   "outputs": [],
   "source": [
    "\n",
    "# Convert 'Results' column to numeric\n",
    "olympic_df['Results'] = pd.to_numeric(olympic_df['Results'], errors='coerce')"
   ]
  },
  {
   "cell_type": "code",
   "execution_count": 10,
   "id": "ebb535a5-5404-43dc-89f7-808703757ee3",
   "metadata": {},
   "outputs": [
    {
     "data": {
      "image/png": "[encoded data removed]",
      "text/plain": [
       "<Figure size 800x400 with 1 Axes>"
      ]
     },
     "metadata": {},
     "output_type": "display_data"
    }
   ],
   "source": [
    "# Count the number of participants in different events\n",
    "event_popularity = olympic_df['Stroke'].value_counts().reset_index()\n",
    "event_popularity.columns = ['Event', 'Number of Participants']\n",
    "\n",
    "# Plot the number of participants in different events\n",
    "plt.figure(figsize=(8, 4))\n",
    "plt.bar(event_popularity['Event'], event_popularity['Number of Participants'])\n",
    "plt.xlabel('Event')\n",
    "plt.ylabel('Number of Participants')\n",
    "plt.title('Event Popularity Based on Number of Participants')\n",
    "plt.xticks(rotation=45)\n",
    "plt.show()"
   ]
  },
  {
   "cell_type": "code",
   "execution_count": null,
   "id": "720db6ac-eb7b-4d67-ba71-2a461b6b86a6",
   "metadata": {},
   "outputs": [],
   "source": []
  }
 ],
 "metadata": {
  "kernelspec": {
   "display_name": "Python 3 (ipykernel)",
   "language": "python",
   "name": "python3"
  },
  "language_info": {
   "codemirror_mode": {
    "name": "ipython",
    "version": 3
   },
   "file_extension": ".py",
   "mimetype": "text/x-python",
   "name": "python",
   "nbconvert_exporter": "python",
   "pygments_lexer": "ipython3",
   "version": "3.11.7"
  }
 },
 "nbformat": 4,
 "nbformat_minor": 5
}
