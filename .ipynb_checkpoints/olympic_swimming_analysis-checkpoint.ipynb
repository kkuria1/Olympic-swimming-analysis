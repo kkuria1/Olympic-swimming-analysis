{
 "cells": [
  {
   "cell_type": "code",
   "execution_count": 1,
   "id": "1f3b0341-6d46-4299-84dd-296f6dc5f0f9",
   "metadata": {},
   "outputs": [],
   "source": [
    "import pandas as pd\n",
    "import numpy as np\n",
    "import matplotlib.pyplot as plt\n",
    "from prophet import Prophet\n"
   ]
  },
  {
   "cell_type": "code",
   "execution_count": 2,
   "id": "ae947f1e-ed34-490d-ab49-bcddb8e62e96",
   "metadata": {},
   "outputs": [
    {
     "data": {
      "text/html": [
       "<div>\n",
       "<style scoped>\n",
       "    .dataframe tbody tr th:only-of-type {\n",
       "        vertical-align: middle;\n",
       "    }\n",
       "\n",
       "    .dataframe tbody tr th {\n",
       "        vertical-align: top;\n",
       "    }\n",
       "\n",
       "    .dataframe thead th {\n",
       "        text-align: right;\n",
       "    }\n",
       "</style>\n",
       "<table border=\"1\" class=\"dataframe\">\n",
       "  <thead>\n",
       "    <tr style=\"text-align: right;\">\n",
       "      <th></th>\n",
       "      <th>Location</th>\n",
       "      <th>Year</th>\n",
       "      <th>Distance (in meters)</th>\n",
       "      <th>Stroke</th>\n",
       "      <th>Relay?</th>\n",
       "      <th>Gender</th>\n",
       "      <th>Team</th>\n",
       "      <th>Athlete</th>\n",
       "      <th>Results</th>\n",
       "      <th>Rank</th>\n",
       "    </tr>\n",
       "  </thead>\n",
       "  <tbody>\n",
       "    <tr>\n",
       "      <th>0</th>\n",
       "      <td>Tokyo</td>\n",
       "      <td>2020</td>\n",
       "      <td>100m</td>\n",
       "      <td>Backstroke</td>\n",
       "      <td>0</td>\n",
       "      <td>Men</td>\n",
       "      <td>ROC</td>\n",
       "      <td>Evgeny Rylov</td>\n",
       "      <td>51.98</td>\n",
       "      <td>1</td>\n",
       "    </tr>\n",
       "    <tr>\n",
       "      <th>1</th>\n",
       "      <td>Tokyo</td>\n",
       "      <td>2020</td>\n",
       "      <td>100m</td>\n",
       "      <td>Backstroke</td>\n",
       "      <td>0</td>\n",
       "      <td>Men</td>\n",
       "      <td>ROC</td>\n",
       "      <td>Kliment Kolesnikov</td>\n",
       "      <td>52</td>\n",
       "      <td>2</td>\n",
       "    </tr>\n",
       "    <tr>\n",
       "      <th>2</th>\n",
       "      <td>Tokyo</td>\n",
       "      <td>2020</td>\n",
       "      <td>100m</td>\n",
       "      <td>Backstroke</td>\n",
       "      <td>0</td>\n",
       "      <td>Men</td>\n",
       "      <td>USA</td>\n",
       "      <td>Ryan Murphy</td>\n",
       "      <td>52.19</td>\n",
       "      <td>3</td>\n",
       "    </tr>\n",
       "    <tr>\n",
       "      <th>3</th>\n",
       "      <td>Tokyo</td>\n",
       "      <td>2020</td>\n",
       "      <td>100m</td>\n",
       "      <td>Backstroke</td>\n",
       "      <td>0</td>\n",
       "      <td>Men</td>\n",
       "      <td>ITA</td>\n",
       "      <td>Thomas Ceccon</td>\n",
       "      <td>52.3</td>\n",
       "      <td>4</td>\n",
       "    </tr>\n",
       "    <tr>\n",
       "      <th>4</th>\n",
       "      <td>Tokyo</td>\n",
       "      <td>2020</td>\n",
       "      <td>100m</td>\n",
       "      <td>Backstroke</td>\n",
       "      <td>0</td>\n",
       "      <td>Men</td>\n",
       "      <td>CHN</td>\n",
       "      <td>Jiayu Xu</td>\n",
       "      <td>52.51</td>\n",
       "      <td>4</td>\n",
       "    </tr>\n",
       "    <tr>\n",
       "      <th>...</th>\n",
       "      <td>...</td>\n",
       "      <td>...</td>\n",
       "      <td>...</td>\n",
       "      <td>...</td>\n",
       "      <td>...</td>\n",
       "      <td>...</td>\n",
       "      <td>...</td>\n",
       "      <td>...</td>\n",
       "      <td>...</td>\n",
       "      <td>...</td>\n",
       "    </tr>\n",
       "    <tr>\n",
       "      <th>4354</th>\n",
       "      <td>Stockholm</td>\n",
       "      <td>1912</td>\n",
       "      <td>4x100</td>\n",
       "      <td>Freestyle</td>\n",
       "      <td>1</td>\n",
       "      <td>Women</td>\n",
       "      <td>SWE</td>\n",
       "      <td>Greta Carlsson, Vera Thulin, Sonja Johnsson, G...</td>\n",
       "      <td>NaN</td>\n",
       "      <td>5</td>\n",
       "    </tr>\n",
       "    <tr>\n",
       "      <th>4355</th>\n",
       "      <td>Stockholm</td>\n",
       "      <td>1912</td>\n",
       "      <td>4x200</td>\n",
       "      <td>Freestyle</td>\n",
       "      <td>1</td>\n",
       "      <td>Men</td>\n",
       "      <td>AUS</td>\n",
       "      <td>Malcolm Champion, Cecil Healy, Harold H. Hardw...</td>\n",
       "      <td>00:10:11.200000</td>\n",
       "      <td>1</td>\n",
       "    </tr>\n",
       "    <tr>\n",
       "      <th>4356</th>\n",
       "      <td>Stockholm</td>\n",
       "      <td>1912</td>\n",
       "      <td>4x200</td>\n",
       "      <td>Freestyle</td>\n",
       "      <td>1</td>\n",
       "      <td>Men</td>\n",
       "      <td>USA</td>\n",
       "      <td>Duke Paoa Kahanamoku, Harry J. Hebner, Perry M...</td>\n",
       "      <td>00:10:20.200000</td>\n",
       "      <td>2</td>\n",
       "    </tr>\n",
       "    <tr>\n",
       "      <th>4357</th>\n",
       "      <td>Stockholm</td>\n",
       "      <td>1912</td>\n",
       "      <td>4x200</td>\n",
       "      <td>Freestyle</td>\n",
       "      <td>1</td>\n",
       "      <td>Men</td>\n",
       "      <td>GBR</td>\n",
       "      <td>Thomas Sidney Battersby, Henry Taylor, John Ga...</td>\n",
       "      <td>00:10:28.600000</td>\n",
       "      <td>3</td>\n",
       "    </tr>\n",
       "    <tr>\n",
       "      <th>4358</th>\n",
       "      <td>Stockholm</td>\n",
       "      <td>1912</td>\n",
       "      <td>4x200</td>\n",
       "      <td>Freestyle</td>\n",
       "      <td>1</td>\n",
       "      <td>Men</td>\n",
       "      <td>GER</td>\n",
       "      <td>Georg Kunisch, Kurt Bretting, Oscar Schiele, M...</td>\n",
       "      <td>00:10:37.000000</td>\n",
       "      <td>4</td>\n",
       "    </tr>\n",
       "  </tbody>\n",
       "</table>\n",
       "<p>4359 rows × 10 columns</p>\n",
       "</div>"
      ],
      "text/plain": [
       "       Location  Year Distance (in meters)      Stroke  Relay? Gender Team  \\\n",
       "0         Tokyo  2020                 100m  Backstroke       0    Men  ROC   \n",
       "1         Tokyo  2020                 100m  Backstroke       0    Men  ROC   \n",
       "2         Tokyo  2020                 100m  Backstroke       0    Men  USA   \n",
       "3         Tokyo  2020                 100m  Backstroke       0    Men  ITA   \n",
       "4         Tokyo  2020                 100m  Backstroke       0    Men  CHN   \n",
       "...         ...   ...                  ...         ...     ...    ...  ...   \n",
       "4354  Stockholm  1912                4x100   Freestyle       1  Women  SWE   \n",
       "4355  Stockholm  1912                4x200   Freestyle       1    Men  AUS   \n",
       "4356  Stockholm  1912                4x200   Freestyle       1    Men  USA   \n",
       "4357  Stockholm  1912                4x200   Freestyle       1    Men  GBR   \n",
       "4358  Stockholm  1912                4x200   Freestyle       1    Men  GER   \n",
       "\n",
       "                                                Athlete          Results  Rank  \n",
       "0                                          Evgeny Rylov            51.98     1  \n",
       "1                                    Kliment Kolesnikov               52     2  \n",
       "2                                           Ryan Murphy            52.19     3  \n",
       "3                                         Thomas Ceccon             52.3     4  \n",
       "4                                              Jiayu Xu            52.51     4  \n",
       "...                                                 ...              ...   ...  \n",
       "4354  Greta Carlsson, Vera Thulin, Sonja Johnsson, G...              NaN     5  \n",
       "4355  Malcolm Champion, Cecil Healy, Harold H. Hardw...  00:10:11.200000     1  \n",
       "4356  Duke Paoa Kahanamoku, Harry J. Hebner, Perry M...  00:10:20.200000     2  \n",
       "4357  Thomas Sidney Battersby, Henry Taylor, John Ga...  00:10:28.600000     3  \n",
       "4358  Georg Kunisch, Kurt Bretting, Oscar Schiele, M...  00:10:37.000000     4  \n",
       "\n",
       "[4359 rows x 10 columns]"
      ]
     },
     "execution_count": 2,
     "metadata": {},
     "output_type": "execute_result"
    }
   ],
   "source": [
    "df = pd.read_csv('Olympic_Swimming_Results_1912to2020.csv')\n",
    "df"
   ]
  },
  {
   "cell_type": "code",
   "execution_count": 3,
   "id": "ed671d30-d525-4309-bf10-fa39537e00ae",
   "metadata": {},
   "outputs": [
    {
     "data": {
      "text/plain": [
       "Team\n",
       "USA    896\n",
       "AUS    451\n",
       "GBR    289\n",
       "JPN    249\n",
       "GER    227\n",
       "CAN    199\n",
       "HUN    173\n",
       "GDR    144\n",
       "SWE    143\n",
       "FRA    139\n",
       "NED    137\n",
       "URS    136\n",
       "ITA    126\n",
       "CHN    121\n",
       "RUS     77\n",
       "FRG     76\n",
       "BRA     61\n",
       "DEN     56\n",
       "RSA     51\n",
       "ROU     43\n",
       "Name: count, dtype: int64"
      ]
     },
     "execution_count": 3,
     "metadata": {},
     "output_type": "execute_result"
    }
   ],
   "source": [
    "df['Team'].value_counts().head(20)"
   ]
  },
  {
   "cell_type": "code",
   "execution_count": 4,
   "id": "87b017d3-c72f-4a0a-805f-c3eab2242ee2",
   "metadata": {},
   "outputs": [
    {
     "name": "stdout",
     "output_type": "stream",
     "text": [
      "<class 'pandas.core.frame.DataFrame'>\n",
      "RangeIndex: 4359 entries, 0 to 4358\n",
      "Data columns (total 10 columns):\n",
      " #   Column                Non-Null Count  Dtype \n",
      "---  ------                --------------  ----- \n",
      " 0   Location              4359 non-null   object\n",
      " 1   Year                  4359 non-null   int64 \n",
      " 2   Distance (in meters)  4359 non-null   object\n",
      " 3   Stroke                4359 non-null   object\n",
      " 4   Relay?                4359 non-null   int64 \n",
      " 5   Gender                4359 non-null   object\n",
      " 6   Team                  4359 non-null   object\n",
      " 7   Athlete               4345 non-null   object\n",
      " 8   Results               4331 non-null   object\n",
      " 9   Rank                  4359 non-null   int64 \n",
      "dtypes: int64(3), object(7)\n",
      "memory usage: 340.7+ KB\n"
     ]
    }
   ],
   "source": [
    "df.info()"
   ]
  },
  {
   "cell_type": "code",
   "execution_count": 5,
   "id": "43c7f000-a0c9-4732-9a7c-68756a689cac",
   "metadata": {},
   "outputs": [
    {
     "data": {
      "text/html": [
       "<div>\n",
       "<style scoped>\n",
       "    .dataframe tbody tr th:only-of-type {\n",
       "        vertical-align: middle;\n",
       "    }\n",
       "\n",
       "    .dataframe tbody tr th {\n",
       "        vertical-align: top;\n",
       "    }\n",
       "\n",
       "    .dataframe thead th {\n",
       "        text-align: right;\n",
       "    }\n",
       "</style>\n",
       "<table border=\"1\" class=\"dataframe\">\n",
       "  <thead>\n",
       "    <tr style=\"text-align: right;\">\n",
       "      <th></th>\n",
       "      <th>Year</th>\n",
       "      <th>Relay?</th>\n",
       "      <th>Rank</th>\n",
       "    </tr>\n",
       "  </thead>\n",
       "  <tbody>\n",
       "    <tr>\n",
       "      <th>count</th>\n",
       "      <td>4359.000000</td>\n",
       "      <td>4359.000000</td>\n",
       "      <td>4359.000000</td>\n",
       "    </tr>\n",
       "    <tr>\n",
       "      <th>mean</th>\n",
       "      <td>1982.936453</td>\n",
       "      <td>0.169764</td>\n",
       "      <td>3.164946</td>\n",
       "    </tr>\n",
       "    <tr>\n",
       "      <th>std</th>\n",
       "      <td>26.928344</td>\n",
       "      <td>0.375468</td>\n",
       "      <td>1.189715</td>\n",
       "    </tr>\n",
       "    <tr>\n",
       "      <th>min</th>\n",
       "      <td>1912.000000</td>\n",
       "      <td>0.000000</td>\n",
       "      <td>0.000000</td>\n",
       "    </tr>\n",
       "    <tr>\n",
       "      <th>25%</th>\n",
       "      <td>1968.000000</td>\n",
       "      <td>0.000000</td>\n",
       "      <td>2.000000</td>\n",
       "    </tr>\n",
       "    <tr>\n",
       "      <th>50%</th>\n",
       "      <td>1988.000000</td>\n",
       "      <td>0.000000</td>\n",
       "      <td>4.000000</td>\n",
       "    </tr>\n",
       "    <tr>\n",
       "      <th>75%</th>\n",
       "      <td>2004.000000</td>\n",
       "      <td>0.000000</td>\n",
       "      <td>4.000000</td>\n",
       "    </tr>\n",
       "    <tr>\n",
       "      <th>max</th>\n",
       "      <td>2020.000000</td>\n",
       "      <td>1.000000</td>\n",
       "      <td>5.000000</td>\n",
       "    </tr>\n",
       "  </tbody>\n",
       "</table>\n",
       "</div>"
      ],
      "text/plain": [
       "              Year       Relay?         Rank\n",
       "count  4359.000000  4359.000000  4359.000000\n",
       "mean   1982.936453     0.169764     3.164946\n",
       "std      26.928344     0.375468     1.189715\n",
       "min    1912.000000     0.000000     0.000000\n",
       "25%    1968.000000     0.000000     2.000000\n",
       "50%    1988.000000     0.000000     4.000000\n",
       "75%    2004.000000     0.000000     4.000000\n",
       "max    2020.000000     1.000000     5.000000"
      ]
     },
     "execution_count": 5,
     "metadata": {},
     "output_type": "execute_result"
    }
   ],
   "source": [
    "\n",
    "df.describe()"
   ]
  },
  {
   "cell_type": "code",
   "execution_count": 6,
   "id": "2b55ebdd-1cca-4d3e-815b-2b7dc7d4d68a",
   "metadata": {},
   "outputs": [
    {
     "data": {
      "text/plain": [
       "Index(['Location', 'Year', 'Distance (in meters)', 'Stroke', 'Relay?',\n",
       "       'Gender', 'Team', 'Athlete', 'Results', 'Rank'],\n",
       "      dtype='object')"
      ]
     },
     "execution_count": 6,
     "metadata": {},
     "output_type": "execute_result"
    }
   ],
   "source": [
    "df.columns"
   ]
  },
  {
   "cell_type": "code",
   "execution_count": 7,
   "id": "d94ce606-871d-4013-9b4f-f3274f037c55",
   "metadata": {},
   "outputs": [
    {
     "data": {
      "text/plain": [
       "(4359, 10)"
      ]
     },
     "execution_count": 7,
     "metadata": {},
     "output_type": "execute_result"
    }
   ],
   "source": [
    "\n",
    "\n",
    "df.shape"
   ]
  },
  {
   "cell_type": "code",
   "execution_count": 8,
   "id": "ec30c41e-126a-432b-9828-a3122950d18f",
   "metadata": {},
   "outputs": [
    {
     "data": {
      "text/plain": [
       "Location                 0\n",
       "Year                     0\n",
       "Distance (in meters)     0\n",
       "Stroke                   0\n",
       "Relay?                   0\n",
       "Gender                   0\n",
       "Team                     0\n",
       "Athlete                 14\n",
       "Results                 28\n",
       "Rank                     0\n",
       "dtype: int64"
      ]
     },
     "execution_count": 8,
     "metadata": {},
     "output_type": "execute_result"
    }
   ],
   "source": [
    "df.isnull().sum()"
   ]
  },
  {
   "cell_type": "code",
   "execution_count": 9,
   "id": "978c19ea-1d2b-4be2-b955-5a6cda7061d5",
   "metadata": {},
   "outputs": [],
   "source": [
    "#Evolution of Performance Times"
   ]
  },
  {
   "cell_type": "code",
   "execution_count": 10,
   "id": "f8984318-59d2-4991-a64f-84a5c2bf7d20",
   "metadata": {},
   "outputs": [],
   "source": [
    "# Remove non-numeric entries from the 'Results' column\n",
    "data = df[pd.to_numeric(df['Results'], errors='coerce').notnull()]\n",
    "\n",
    "# Convert 'Results' column to numeric\n",
    "df['Results'] = pd.to_numeric(df['Results'], errors='coerce')"
   ]
  },
  {
   "cell_type": "code",
   "execution_count": 11,
   "id": "ebb535a5-5404-43dc-89f7-808703757ee3",
   "metadata": {},
   "outputs": [
    {
     "data": {
      "image/png": "[encoded data removed]",
      "text/plain": [
       "<Figure size 800x400 with 1 Axes>"
      ]
     },
     "metadata": {},
     "output_type": "display_data"
    }
   ],
   "source": [
    "# Count the number of participants in different events\n",
    "event_popularity = df['Stroke'].value_counts().reset_index()\n",
    "event_popularity.columns = ['Event', 'Number of Participants']\n",
    "\n",
    "# Plot the number of participants in different events\n",
    "plt.figure(figsize=(8, 4))\n",
    "plt.bar(event_popularity['Event'], event_popularity['Number of Participants'])\n",
    "plt.xlabel('Event')\n",
    "plt.ylabel('Number of Participants')\n",
    "plt.title('Event Popularity Based on Number of Participants')\n",
    "plt.xticks(rotation=45)\n",
    "plt.show()"
   ]
  },
  {
   "cell_type": "code",
   "execution_count": 12,
   "id": "6dc67051-b48b-49de-9a7c-eee735d67a76",
   "metadata": {},
   "outputs": [],
   "source": [
    "#Event perfomance Trends"
   ]
  },
  {
   "cell_type": "code",
   "execution_count": 13,
   "id": "9ed3f242-e306-4e6a-bed8-d301e861aa30",
   "metadata": {},
   "outputs": [],
   "source": [
    "# List of strokes\n",
    "strokes = ['Freestyle', 'Backstroke', 'Breaststroke', 'Butterfly', 'Medley']\n",
    "\n",
    "# Create a dictionary to hold average winning times for each stroke\n",
    "average_times_by_stroke = {}\n",
    "\n",
    "for stroke in strokes:\n",
    "    stroke_data = df[df['Stroke'] == stroke]\n",
    "    average_times = stroke_data.groupby('Year')['Results'].mean().reset_index()\n",
    "    average_times_by_stroke[stroke] = average_times"
   ]
  },
  {
   "cell_type": "code",
   "execution_count": 14,
   "id": "33dddc16-51cf-4b5d-82b9-6b8266851e96",
   "metadata": {},
   "outputs": [
    {
     "data": {
      "image/png": "[encoded data removed]",
      "text/plain": [
       "<Figure size 800x400 with 1 Axes>"
      ]
     },
     "metadata": {},
     "output_type": "display_data"
    }
   ],
   "source": [
    "# Plot the average winning times for each stroke\n",
    "plt.figure(figsize=(8, 4))\n",
    "\n",
    "for stroke in strokes:\n",
    "    plt.plot(average_times_by_stroke[stroke]['Year'], average_times_by_stroke[stroke]['Results'], marker='o', linestyle='-', label=stroke)\n",
    "\n",
    "plt.xlabel('Year')\n",
    "plt.ylabel('Average Winning Time (seconds)')\n",
    "plt.title('Average Winning Times Over the Years by Stroke')\n",
    "plt.legend()\n",
    "plt.grid(True)\n",
    "plt.show()"
   ]
  },
  {
   "cell_type": "code",
   "execution_count": 15,
   "id": "a06f7297-6317-46ee-ab6a-fbac85fd8066",
   "metadata": {},
   "outputs": [],
   "source": [
    "#Analysis\n",
    "#Insights\n",
    "#All strokes show a general trend of improvement over the years, with average winning times decreasing.\n",
    "#The rate of improvement varies among the different strokes, with Freestyle showing the most significant improvement over time. \n",
    "\n"
   ]
  },
  {
   "cell_type": "code",
   "execution_count": 16,
   "id": "e4d9b594-f200-47b4-bced-4d3af253d38a",
   "metadata": {},
   "outputs": [],
   "source": [
    "#Total number of medals by country"
   ]
  },
  {
   "cell_type": "code",
   "execution_count": 17,
   "id": "b0032cdd-e5f6-469c-b31f-fa6eb51f9046",
   "metadata": {},
   "outputs": [],
   "source": [
    "# Calculate the total number of medals won by each country\n",
    "medals_by_country = data.groupby('Team')['Rank'].count().reset_index()\n",
    "medals_by_country.columns = ['Country', 'Total Medals']\n",
    "medals_by_country = medals_by_country.sort_values(by='Total Medals', ascending=False)"
   ]
  },
  {
   "cell_type": "code",
   "execution_count": 18,
   "id": "123088e8-deea-4494-afff-21d5c4dc2b71",
   "metadata": {},
   "outputs": [
    {
     "data": {
      "text/html": [
       "<div>\n",
       "<style scoped>\n",
       "    .dataframe tbody tr th:only-of-type {\n",
       "        vertical-align: middle;\n",
       "    }\n",
       "\n",
       "    .dataframe tbody tr th {\n",
       "        vertical-align: top;\n",
       "    }\n",
       "\n",
       "    .dataframe thead th {\n",
       "        text-align: right;\n",
       "    }\n",
       "</style>\n",
       "<table border=\"1\" class=\"dataframe\">\n",
       "  <thead>\n",
       "    <tr style=\"text-align: right;\">\n",
       "      <th></th>\n",
       "      <th>Total Medals</th>\n",
       "    </tr>\n",
       "    <tr>\n",
       "      <th>Country</th>\n",
       "      <th></th>\n",
       "    </tr>\n",
       "  </thead>\n",
       "  <tbody>\n",
       "    <tr>\n",
       "      <th>USA</th>\n",
       "      <td>172</td>\n",
       "    </tr>\n",
       "    <tr>\n",
       "      <th>AUS</th>\n",
       "      <td>88</td>\n",
       "    </tr>\n",
       "    <tr>\n",
       "      <th>NED</th>\n",
       "      <td>40</td>\n",
       "    </tr>\n",
       "    <tr>\n",
       "      <th>FRA</th>\n",
       "      <td>35</td>\n",
       "    </tr>\n",
       "    <tr>\n",
       "      <th>SWE</th>\n",
       "      <td>31</td>\n",
       "    </tr>\n",
       "    <tr>\n",
       "      <th>CHN</th>\n",
       "      <td>29</td>\n",
       "    </tr>\n",
       "    <tr>\n",
       "      <th>JPN</th>\n",
       "      <td>28</td>\n",
       "    </tr>\n",
       "    <tr>\n",
       "      <th>GBR</th>\n",
       "      <td>28</td>\n",
       "    </tr>\n",
       "    <tr>\n",
       "      <th>GDR</th>\n",
       "      <td>27</td>\n",
       "    </tr>\n",
       "    <tr>\n",
       "      <th>GER</th>\n",
       "      <td>25</td>\n",
       "    </tr>\n",
       "  </tbody>\n",
       "</table>\n",
       "</div>"
      ],
      "text/plain": [
       "         Total Medals\n",
       "Country              \n",
       "USA               172\n",
       "AUS                88\n",
       "NED                40\n",
       "FRA                35\n",
       "SWE                31\n",
       "CHN                29\n",
       "JPN                28\n",
       "GBR                28\n",
       "GDR                27\n",
       "GER                25"
      ]
     },
     "execution_count": 18,
     "metadata": {},
     "output_type": "execute_result"
    }
   ],
   "source": [
    "#Identify top 10 countries with the most medals\n",
    "top_countries = medals_by_country.head(10).set_index('Country')\n",
    "top_countries"
   ]
  },
  {
   "cell_type": "code",
   "execution_count": 19,
   "id": "d6698542-398b-4870-a765-4195d9a978ea",
   "metadata": {},
   "outputs": [
    {
     "data": {
      "image/png": "[encoded data removed]",
      "text/plain": [
       "<Figure size 800x400 with 1 Axes>"
      ]
     },
     "metadata": {},
     "output_type": "display_data"
    }
   ],
   "source": [
    "# Plot the total number of medals won by the top-performing countries without the index\n",
    "plt.figure(figsize=(8, 4))\n",
    "top_countries['Total Medals'].plot(kind='bar')\n",
    "plt.xlabel('Country')\n",
    "plt.ylabel('Total Medals')\n",
    "plt.title('Total Medals Won by Top 10 Countries')\n",
    "plt.xticks(rotation=45)\n",
    "plt.show()"
   ]
  },
  {
   "cell_type": "code",
   "execution_count": null,
   "id": "824e29a6-223c-4c3d-a10f-e8aacab69975",
   "metadata": {},
   "outputs": [],
   "source": []
  },
  {
   "cell_type": "code",
   "execution_count": null,
   "id": "438dc994-47c4-498b-b2fe-79acc00ec405",
   "metadata": {},
   "outputs": [],
   "source": []
  }
 ],
 "metadata": {
  "kernelspec": {
   "display_name": "Python 3 (ipykernel)",
   "language": "python",
   "name": "python3"
  },
  "language_info": {
   "codemirror_mode": {
    "name": "ipython",
    "version": 3
   },
   "file_extension": ".py",
   "mimetype": "text/x-python",
   "name": "python",
   "nbconvert_exporter": "python",
   "pygments_lexer": "ipython3",
   "version": "3.11.7"
  }
 },
 "nbformat": 4,
 "nbformat_minor": 5
}
